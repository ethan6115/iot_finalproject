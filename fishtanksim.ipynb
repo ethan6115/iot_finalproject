{
 "cells": [
  {
   "cell_type": "code",
   "execution_count": 1,
   "id": "f5c85b2e",
   "metadata": {},
   "outputs": [],
   "source": [
    "import requests, base64, time, json\n",
    "OM2M_URL = \"http://127.0.0.1:8080/~\"\n",
    "CSE_ID = \"/in-cse/\"\n",
    "CSE_NAME = \"in-name\"\n",
    "LOGIN=\"admin\"\n",
    "PSWD=\"admin\"\n",
    "OM2M_BASE = OM2M_URL+CSE_ID\n",
    "auth_headers = {\"X-M2M-ORIGIN\":LOGIN+\":\"+PSWD}\n",
    "# The other accepted value is application/xml\n",
    "common_headers = {\"Accept\": \"application/json\"}\n",
    "\n",
    "def create_AE(name):\n",
    "    header_ae = {\"Content-Type\":\"application/xml;ty=2\"}\n",
    "    name_ae = name\n",
    "    body_ae = \"\"\"\n",
    "    <m2m:ae xmlns:m2m=\"http://www.onem2m.org/xml/protocols\" rn=\"{0}\">\n",
    "        <api>semantic</api>\n",
    "        <lbl>Type/semantic Category/temperature Location/home</lbl>\n",
    "        <rr>true</rr>\n",
    "    </m2m:ae>\n",
    "    \"\"\".format(name_ae)\n",
    "    response = requests.delete(OM2M_BASE+CSE_NAME+\"/\"+name_ae, headers={**auth_headers, **common_headers})\n",
    "    print(response)\n",
    "    response = requests.post(OM2M_BASE, data=body_ae, headers={**auth_headers, **common_headers, **header_ae})\n",
    "    print(response)\n",
    "def create_CNT(name_ae, name_cnt):\n",
    "    header_cnt = {\"Content-Type\":\"application/xml;ty=3\"}\n",
    "    body_cnt = \"\"\"<m2m:cnt xmlns:m2m=\"http://www.onem2m.org/xml/protocols\" rn=\"{0}\"></m2m:cnt>\"\"\".format(name_cnt)\n",
    "    print(body_cnt)\n",
    "    response = requests.post(OM2M_BASE+CSE_NAME+\"/\"+name_ae, data=body_cnt, headers={**auth_headers, **common_headers, **header_cnt})\n",
    "    print(response)\n"
   ]
  },
  {
   "cell_type": "code",
   "execution_count": 2,
   "id": "e42f2c88",
   "metadata": {},
   "outputs": [
    {
     "name": "stdout",
     "output_type": "stream",
     "text": [
      "<Response [404]>\n",
      "<Response [201]>\n",
      "<m2m:cnt xmlns:m2m=\"http://www.onem2m.org/xml/protocols\" rn=\"Turbidity_Sensor\"></m2m:cnt>\n",
      "<Response [201]>\n"
     ]
    }
   ],
   "source": [
    "create_AE(\"Fish_Tank\")\n",
    "time.sleep(2)\n",
    "create_CNT(\"Fish_Tank\", \"Turbidity_Sensor\")\n"
   ]
  },
  {
   "cell_type": "code",
   "execution_count": 3,
   "id": "92d5aadc",
   "metadata": {},
   "outputs": [],
   "source": [
    "import xml.sax.saxutils as saxutils\n",
    "def create_CIN_message(ae_name, cnt_name, inner_obj_str):\n",
    "    #XML-escape inner_obj_str\n",
    "    escaped = saxutils.escape(inner_obj_str, {'\"': '&quot;', \"'\": '&apos;'})\n",
    "    #例如 '&lt;obj&gt;&lt;str name=&quot;Turbidity&quot; val=&quot;5&quot;/&gt;&lt;/obj&gt;'\n",
    "\n",
    "    root_ns = 'xmlns:m2m=\"http://www.onem2m.org/xml/protocols\"'\n",
    "\n",
    "    # 4. 組 XML body\n",
    "    body = f\"\"\"<m2m:cin {root_ns}>\n",
    "    <cnf>message</cnf>\n",
    "    <con>{escaped}</con>\n",
    "    </m2m:cin>\"\"\"\n",
    "\n",
    "    #print(body)\n",
    "\n",
    "    # POST\n",
    "    url = OM2M_BASE + CSE_NAME + f\"/{ae_name}/{cnt_name}\"\n",
    "    headers = {\n",
    "        **auth_headers,\n",
    "        \"Content-Type\": \"application/xml;ty=4\",\n",
    "        **common_headers\n",
    "    }\n",
    "    resp = requests.post(url, data=body.encode('utf-8'), headers=headers)\n",
    "    # debug\n",
    "    #print(\"HTTP status:\", resp.status_code)\n",
    "    #print(\"Response text:\", resp.text)\n"
   ]
  },
  {
   "cell_type": "code",
   "execution_count": 4,
   "id": "13283317",
   "metadata": {},
   "outputs": [],
   "source": [
    "import xml.etree.ElementTree as ET\n",
    "def get_actuator():\n",
    "    resp = requests.get(OM2M_BASE + CSE_NAME + \"/Fish_Tank/Actuator/la\",headers={**auth_headers, **common_headers})\n",
    "    \n",
    "    data = resp.json()\n",
    "    cin = data.get(\"m2m:cin\") or data.get(\"cin\")\n",
    "    con = cin.get(\"con\")\n",
    "    inner_xml = saxutils.unescape(con, {'&quot;': '\"', '&apos;': \"'\"})\n",
    "    root = ET.fromstring(inner_xml)\n",
    "    elem = root.find('.//bool')\n",
    "    val = elem.attrib.get('val')\n",
    "    return val"
   ]
  },
  {
   "cell_type": "code",
   "execution_count": 5,
   "id": "6cc986f3",
   "metadata": {},
   "outputs": [
    {
     "name": "stdout",
     "output_type": "stream",
     "text": [
      "Start changing the fish tank water\n",
      "Fish tank water change completed\n"
     ]
    },
    {
     "ename": "KeyboardInterrupt",
     "evalue": "",
     "output_type": "error",
     "traceback": [
      "\u001b[0;31m---------------------------------------------------------------------------\u001b[0m",
      "\u001b[0;31mKeyboardInterrupt\u001b[0m                         Traceback (most recent call last)",
      "Cell \u001b[0;32mIn[5], line 15\u001b[0m\n\u001b[1;32m     13\u001b[0m create_CIN_message(ae_name\u001b[38;5;241m=\u001b[39m\u001b[38;5;124m\"\u001b[39m\u001b[38;5;124mFish_Tank\u001b[39m\u001b[38;5;124m\"\u001b[39m,cnt_name\u001b[38;5;241m=\u001b[39m\u001b[38;5;124m\"\u001b[39m\u001b[38;5;124mTurbidity_Sensor\u001b[39m\u001b[38;5;124m\"\u001b[39m,inner_obj_str\u001b[38;5;241m=\u001b[39minner)\n\u001b[1;32m     14\u001b[0m i \u001b[38;5;241m+\u001b[39m\u001b[38;5;241m=\u001b[39m \u001b[38;5;241m10\u001b[39m  \n\u001b[0;32m---> 15\u001b[0m \u001b[43mtime\u001b[49m\u001b[38;5;241;43m.\u001b[39;49m\u001b[43msleep\u001b[49m\u001b[43m(\u001b[49m\u001b[38;5;241;43m3\u001b[39;49m\u001b[43m)\u001b[49m  \n",
      "\u001b[0;31mKeyboardInterrupt\u001b[0m: "
     ]
    }
   ],
   "source": [
    "i = 10\n",
    "while True:\n",
    "    if(get_actuator() == '1'):\n",
    "        print('Start changing the fish tank water')\n",
    "        inner = f'<obj><bool name=\"ON\" val=\"0\"/></obj>'\n",
    "        create_CIN_message(ae_name=\"Fish_Tank\",cnt_name=\"Actuator\",inner_obj_str=inner)\n",
    "        time.sleep(3)\n",
    "        i = 10\n",
    "        print('Fish tank water change completed')\n",
    "        \n",
    "    else:\n",
    "        inner = f'<obj><str name=\"Turbidity\" val=\"{i}\"/></obj>'\n",
    "        create_CIN_message(ae_name=\"Fish_Tank\",cnt_name=\"Turbidity_Sensor\",inner_obj_str=inner)\n",
    "        i += 10  \n",
    "        time.sleep(3)  \n"
   ]
  },
  {
   "cell_type": "code",
   "execution_count": null,
   "id": "f8f662a9",
   "metadata": {},
   "outputs": [],
   "source": []
  }
 ],
 "metadata": {
  "kernelspec": {
   "display_name": "Python 3 (ipykernel)",
   "language": "python",
   "name": "python3"
  },
  "language_info": {
   "codemirror_mode": {
    "name": "ipython",
    "version": 3
   },
   "file_extension": ".py",
   "mimetype": "text/x-python",
   "name": "python",
   "nbconvert_exporter": "python",
   "pygments_lexer": "ipython3",
   "version": "3.8.10"
  }
 },
 "nbformat": 4,
 "nbformat_minor": 5
}
